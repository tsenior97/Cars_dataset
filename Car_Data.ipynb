{
  "nbformat": 4,
  "nbformat_minor": 0,
  "metadata": {
    "colab": {
      "name": "Car_Data.ipynb",
      "provenance": [],
      "collapsed_sections": []
    },
    "kernelspec": {
      "name": "python3",
      "display_name": "Python 3"
    },
    "language_info": {
      "name": "python"
    }
  },
  "cells": [
    {
      "cell_type": "code",
      "execution_count": null,
      "metadata": {
        "id": "gWBXZ_e6dbRm"
      },
      "outputs": [],
      "source": [
        "import requests\n",
        "from bs4 import BeautifulSoup\n",
        "import smtplib\n",
        "import pandas as pd\n",
        "import numpy as np\n",
        "\n",
        "import re"
      ]
    },
    {
      "cell_type": "code",
      "source": [
        "### returns only numbers in a string as int \n",
        "def only_numerics(seq):\n",
        "    seq_type= type(seq)\n",
        "    return int(seq_type().join(filter(seq_type.isdigit, seq)))"
      ],
      "metadata": {
        "id": "6RXExDJYEq81"
      },
      "execution_count": null,
      "outputs": []
    },
    {
      "cell_type": "code",
      "source": [
        "### returns only numbers in a string but still as a string \n",
        "def only_numerics_string(seq):\n",
        "    seq_type= type(seq)\n",
        "    return seq_type().join(filter(seq_type.isdigit, seq))"
      ],
      "metadata": {
        "id": "8Obb1i96ZV3-"
      },
      "execution_count": null,
      "outputs": []
    },
    {
      "cell_type": "code",
      "source": [
        "url1 = \"https://raw.githubusercontent.com/tsenior97/Cars_dataset/main/page1-9.txt\"\n",
        "page1 = requests.get(url1)\n",
        "soup1 = BeautifulSoup(page1.content, 'html.parser')"
      ],
      "metadata": {
        "id": "BRAwCN1V2XbK"
      },
      "execution_count": null,
      "outputs": []
    },
    {
      "cell_type": "code",
      "source": [
        "url2 = \"https://raw.githubusercontent.com/tsenior97/Cars_dataset/main/page10-19.txt\"\n",
        "page2 = requests.get(url2)\n",
        "soup2 = BeautifulSoup(page2.content, 'html.parser')"
      ],
      "metadata": {
        "id": "Hvk3Cb2dt9ZM"
      },
      "execution_count": null,
      "outputs": []
    },
    {
      "cell_type": "code",
      "source": [
        "url3 = \"https://raw.githubusercontent.com/tsenior97/Cars_dataset/main/page20-29.txt\"\n",
        "page3 = requests.get(url3)\n",
        "soup3 = BeautifulSoup(page3.content, 'html.parser')"
      ],
      "metadata": {
        "id": "VCZz4edet9vt"
      },
      "execution_count": null,
      "outputs": []
    },
    {
      "cell_type": "code",
      "source": [
        "url4 = \"https://raw.githubusercontent.com/tsenior97/Cars_dataset/main/page30-39.txt\"\n",
        "page4 = requests.get(url4)\n",
        "soup4 = BeautifulSoup(page4.content, 'html.parser')"
      ],
      "metadata": {
        "id": "r4pso886DcyM"
      },
      "execution_count": null,
      "outputs": []
    },
    {
      "cell_type": "code",
      "source": [
        "url5 = \"https://raw.githubusercontent.com/tsenior97/Cars_dataset/main/page40-49.txt\"\n",
        "page5 = requests.get(url5)\n",
        "soup5 = BeautifulSoup(page5.content, 'html.parser')"
      ],
      "metadata": {
        "id": "dVWyxGKQDc5X"
      },
      "execution_count": null,
      "outputs": []
    },
    {
      "cell_type": "code",
      "source": [
        "url6 = \"https://raw.githubusercontent.com/tsenior97/Cars_dataset/main/page50-59.txt\"\n",
        "page6 = requests.get(url6)\n",
        "soup6 = BeautifulSoup(page6.content, 'html.parser')"
      ],
      "metadata": {
        "id": "fa63sG2tDdAY"
      },
      "execution_count": null,
      "outputs": []
    },
    {
      "cell_type": "code",
      "source": [
        "url7 = \"https://raw.githubusercontent.com/tsenior97/Cars_dataset/main/page60_69.txt\"\n",
        "page7 = requests.get(url7)\n",
        "soup7 = BeautifulSoup(page7.content, 'html.parser')"
      ],
      "metadata": {
        "id": "r11l06bEIxBe"
      },
      "execution_count": null,
      "outputs": []
    },
    {
      "cell_type": "code",
      "source": [
        "url8 = \"https://raw.githubusercontent.com/tsenior97/Cars_dataset/main/page70-79.txt\"\n",
        "page8 = requests.get(url8)\n",
        "soup8 = BeautifulSoup(page8.content, 'html.parser')"
      ],
      "metadata": {
        "id": "1TqOTN2QMRu_"
      },
      "execution_count": null,
      "outputs": []
    },
    {
      "cell_type": "code",
      "source": [
        "url9 = \"https://raw.githubusercontent.com/tsenior97/Cars_dataset/main/page80-89.txt\"\n",
        "page9 = requests.get(url9)\n",
        "soup9 = BeautifulSoup(page9.content, 'html.parser')"
      ],
      "metadata": {
        "id": "rtSozRp2MR5l"
      },
      "execution_count": null,
      "outputs": []
    },
    {
      "cell_type": "code",
      "source": [
        "url10 = \"https://raw.githubusercontent.com/tsenior97/Cars_dataset/main/page90-99.txt\"\n",
        "page10 = requests.get(url10)\n",
        "soup10 = BeautifulSoup(page10.content, 'html.parser')"
      ],
      "metadata": {
        "id": "fvM4gkreMSDh"
      },
      "execution_count": null,
      "outputs": []
    },
    {
      "cell_type": "code",
      "source": [
        "url11 = \"https://raw.githubusercontent.com/tsenior97/Cars_dataset/main/page100-112.txt\"\n",
        "page11 = requests.get(url11)\n",
        "soup11 = BeautifulSoup(page11.content, 'html.parser')"
      ],
      "metadata": {
        "id": "_KZlUnBtMW0X"
      },
      "execution_count": null,
      "outputs": []
    },
    {
      "cell_type": "code",
      "source": [
        "def list_extracter(x):\n",
        "  ##### Blank lists for the data\n",
        "  Transmission = []\n",
        "  Seats = []\n",
        "  Fuel_Type = []\n",
        "  Fuel_Eco = []\n",
        "  Insurance_Group = []\n",
        "  CO2 = []\n",
        "  # Milage = []\n",
        "  # Year = []\n",
        "\n",
        "  reserved= []\n",
        "  href = []\n",
        "\n",
        "  make = []\n",
        "  model =[]\n",
        "  years = []\n",
        "  mileage = []\n",
        "  reges = []\n",
        "  location =[]\n",
        "\n",
        "  Depsoit =[]\n",
        "  APR =[]\n",
        "\n",
        "  Price = []\n",
        "  Price_diff = []\n",
        "  Price_month = []\n",
        "  Price_new= []\n",
        "  #####\n",
        "\n",
        "  car = x.find_all(class_='vc-header') # breaking the html into details about each car \n",
        "  num_cars = len(x.find_all(class_='vc-header')) # number of cars in the soup\n",
        "  specs = x.find_all(class_='vc-img-info-column') # breaking the html into details about each car's specs \n",
        "  lists = [[] for i in range(num_cars)] \n",
        "\n",
        "  for i in range(num_cars):\n",
        "    ###### First section is looking at price\n",
        "    mp_text=specs[i].find_all(class_='main-price')[0].get_text()\n",
        "\n",
        "    if specs[i].find_all(class_='save-price') == []:\n",
        "      sp_text = None\n",
        "      Price_diff.append(sp_text)\n",
        "    else:\n",
        "      sp_text=specs[i].find_all(class_='save-price')[0].get_text()\n",
        "      Price_diff.append(only_numerics(sp_text))\n",
        "\n",
        "    mop_text=specs[i].find_all(class_='monthly-price')[0].get_text()\n",
        "\n",
        "    Price.append(only_numerics(mp_text))\n",
        "    # Price_month.append(only_numerics(mop_text)/100) (Probelm assuming all numbers had two digits)\n",
        "    Price_month.append(float(re.findall(r\"[-+]?\\d*\\.\\d+|\\d+\", mop_text)[0]))\n",
        "\n",
        "    desp_apr = only_numerics_string(specs[i].find_all(class_='deposit-apr')[0].get_text())\n",
        "\n",
        "    APR.append(int(desp_apr[-2:])/10)\n",
        "    Depsoit.append(int(desp_apr[:-2]))\n",
        "    \n",
        "    if Price_diff[i] == None:\n",
        "      Price_new.append(None)\n",
        "    else:\n",
        "      Price_new.append(Price[i] + Price_diff[i])\n",
        "    ######\n",
        "    ###### This section is breaking the car's specs into its 7 componats \n",
        "    for j in range(6):\n",
        "      vals = specs[i].find_all(class_='spec-value')[j].get_text()\n",
        "      lists[i].append(vals)\n",
        "    \n",
        "    Transmission.append(lists[i][0])\n",
        "    Seats.append(lists[i][1])\n",
        "    Fuel_Type.append(lists[i][2])\n",
        "    Fuel_Eco.append(only_numerics_string(lists[i][3]))\n",
        "    Insurance_Group.append(lists[i][4])\n",
        "    CO2.append(only_numerics(lists[i][5]))\n",
        "    # Milage.append(lists[i][6])\n",
        "    # Year.append(lists[i][7])\n",
        "    ######\n",
        "    ###### Checking wether it is reserved and getting url to the page\n",
        "    res = specs[i].find_all(class_='reserved-tag')\n",
        "    if res == []:\n",
        "        reserved.append(False)\n",
        "    else:\n",
        "        reserved.append(True)\n",
        "\n",
        "    href.append(specs[i].find_all('a')[0].get('href'))\n",
        "    ######\n",
        "\n",
        "    ###### Make and model string broken up \n",
        "    make.append(car[i].find_all(class_=\"vc-title\")[0].get_text().split()[0])\n",
        "    model.append(' '.join(car[i].find_all(class_=\"vc-title\")[0].get_text().split()[1:-1]))\n",
        "    ######\n",
        "    \n",
        "    # reg_num = only_numerics_string(string)[-2:]\n",
        "    # reg_lets = ''.join(filter(str.isalpha, string))[5:10]\n",
        "    ##### String for year, milage, location and registration is broken up and appended onto there own lists\n",
        "    string = car[i].find_all(class_='vc-subtitle')[0].get_text()\n",
        "    years.append(string[0:4])\n",
        "    mileage.append(int(only_numerics_string(string)[4:-2]))\n",
        "    reges.append(string.split()[5])\n",
        "\n",
        "    #if string.split()[-1:] == ''\n",
        "    #location.append(string.split()[-1:][0])\n",
        "\n",
        "    location.append(string.split()[-1:][0])\n",
        "    if location[i] == 'Donington':\n",
        "        location[i] = 'Castle Donnington'\n",
        "    elif location[i] == 'Ashfield':\n",
        "        location[i] = ('Sutton in Ashfield')\n",
        "    else:\n",
        "      pass\n",
        "      \n",
        "  ##### meg_list is combinign the lists into one\n",
        "  meg_list = {'Make': make, 'Model': model, 'Registration':reges, 'Location': location, 'Transmission': Transmission, 'Seats': Seats, 'Fuel_Type': Fuel_Type, 'Fuel_Eco': Fuel_Eco, 'Insurance_Group': Insurance_Group,\n",
        "            'CO2': CO2, 'Milage': mileage, 'Year': years, 'Price(£)': Price, 'Price_diff': Price_diff, 'Price on New(£)': Price_new, 'Price per month': Price_month, 'Depsoit': Depsoit, 'APR': APR,'Reserved': reserved, 'URL': href}\n",
        "  \n",
        "  ##### return the soup as a dataframe \n",
        "  return pd.DataFrame(meg_list) "
      ],
      "metadata": {
        "id": "KPFvWqLFAb_C"
      },
      "execution_count": null,
      "outputs": []
    },
    {
      "cell_type": "code",
      "source": [
        "soups = [soup1, soup2, soup3, soup4, soup5, soup6, soup7, soup8, soup9, soup10, soup11]\n",
        "pages = []"
      ],
      "metadata": {
        "id": "rPj_geDNLkET"
      },
      "execution_count": null,
      "outputs": []
    },
    {
      "cell_type": "code",
      "source": [
        "for i in range(len(soups)):\n",
        "  pages.append(list_extracter(soups[i]))"
      ],
      "metadata": {
        "id": "HrIpdX00L9CO"
      },
      "execution_count": null,
      "outputs": []
    },
    {
      "cell_type": "code",
      "source": [
        "big_df = pages[0]\n",
        "for i in range(len(pages)-1):\n",
        "  big_df = big_df.merge(pages[i+1], how='outer',on=list(pages[0].columns.values))"
      ],
      "metadata": {
        "id": "iDeJjQqN-Ts7"
      },
      "execution_count": null,
      "outputs": []
    },
    {
      "cell_type": "code",
      "source": [
        "big_df.head()"
      ],
      "metadata": {
        "colab": {
          "base_uri": "https://localhost:8080/",
          "height": 389
        },
        "id": "8t5G69K5O6hA",
        "outputId": "8d66b6cf-a815-44ea-f15b-fc56e1d6b84d"
      },
      "execution_count": null,
      "outputs": [
        {
          "output_type": "execute_result",
          "data": {
            "text/html": [
              "\n",
              "  <div id=\"df-97a92d61-b82a-4b4b-b9be-6bbb868a9e69\">\n",
              "    <div class=\"colab-df-container\">\n",
              "      <div>\n",
              "<style scoped>\n",
              "    .dataframe tbody tr th:only-of-type {\n",
              "        vertical-align: middle;\n",
              "    }\n",
              "\n",
              "    .dataframe tbody tr th {\n",
              "        vertical-align: top;\n",
              "    }\n",
              "\n",
              "    .dataframe thead th {\n",
              "        text-align: right;\n",
              "    }\n",
              "</style>\n",
              "<table border=\"1\" class=\"dataframe\">\n",
              "  <thead>\n",
              "    <tr style=\"text-align: right;\">\n",
              "      <th></th>\n",
              "      <th>Make</th>\n",
              "      <th>Model</th>\n",
              "      <th>Registration</th>\n",
              "      <th>Location</th>\n",
              "      <th>Transmission</th>\n",
              "      <th>Seats</th>\n",
              "      <th>Fuel_Type</th>\n",
              "      <th>Fuel_Eco</th>\n",
              "      <th>Insurance_Group</th>\n",
              "      <th>CO2</th>\n",
              "      <th>Milage</th>\n",
              "      <th>Year</th>\n",
              "      <th>Price(£)</th>\n",
              "      <th>Price_diff</th>\n",
              "      <th>Price on New(£)</th>\n",
              "      <th>Price per month</th>\n",
              "      <th>Depsoit</th>\n",
              "      <th>APR</th>\n",
              "      <th>Reserved</th>\n",
              "      <th>URL</th>\n",
              "    </tr>\n",
              "  </thead>\n",
              "  <tbody>\n",
              "    <tr>\n",
              "      <th>0</th>\n",
              "      <td>CHEVROLET</td>\n",
              "      <td>SPARK LS</td>\n",
              "      <td>BP63NXZ</td>\n",
              "      <td>Cannock</td>\n",
              "      <td>Manual</td>\n",
              "      <td>5</td>\n",
              "      <td>Petrol</td>\n",
              "      <td>55</td>\n",
              "      <td>4E</td>\n",
              "      <td>119</td>\n",
              "      <td>17824</td>\n",
              "      <td>2014</td>\n",
              "      <td>4499</td>\n",
              "      <td>4721.0</td>\n",
              "      <td>9220.0</td>\n",
              "      <td>94.44</td>\n",
              "      <td>0</td>\n",
              "      <td>9.9</td>\n",
              "      <td>False</td>\n",
              "      <td>https://www.availablecar.com/used-cars/chevrol...</td>\n",
              "    </tr>\n",
              "    <tr>\n",
              "      <th>1</th>\n",
              "      <td>Toyota</td>\n",
              "      <td>Aygo 1.0 VVT-i Move</td>\n",
              "      <td>AF64HZA</td>\n",
              "      <td>Sutton in Ashfield</td>\n",
              "      <td>Manual</td>\n",
              "      <td>4</td>\n",
              "      <td>Petrol</td>\n",
              "      <td>65</td>\n",
              "      <td>3E</td>\n",
              "      <td>99</td>\n",
              "      <td>51658</td>\n",
              "      <td>2014</td>\n",
              "      <td>5099</td>\n",
              "      <td>5466.0</td>\n",
              "      <td>10565.0</td>\n",
              "      <td>107.03</td>\n",
              "      <td>0</td>\n",
              "      <td>9.9</td>\n",
              "      <td>False</td>\n",
              "      <td>https://www.availablecar.com/used-cars/toyota-...</td>\n",
              "    </tr>\n",
              "    <tr>\n",
              "      <th>2</th>\n",
              "      <td>Skoda</td>\n",
              "      <td>Citigo 1.0 60 SE</td>\n",
              "      <td>YB64HVT</td>\n",
              "      <td>Sutton in Ashfield</td>\n",
              "      <td>Manual</td>\n",
              "      <td>4</td>\n",
              "      <td>Petrol</td>\n",
              "      <td>62</td>\n",
              "      <td>1E</td>\n",
              "      <td>105</td>\n",
              "      <td>48599</td>\n",
              "      <td>2014</td>\n",
              "      <td>5099</td>\n",
              "      <td>3906.0</td>\n",
              "      <td>9005.0</td>\n",
              "      <td>107.03</td>\n",
              "      <td>0</td>\n",
              "      <td>9.9</td>\n",
              "      <td>False</td>\n",
              "      <td>https://www.availablecar.com/used-cars/skoda-c...</td>\n",
              "    </tr>\n",
              "    <tr>\n",
              "      <th>3</th>\n",
              "      <td>Fiat</td>\n",
              "      <td>Panda 1.2 Pop</td>\n",
              "      <td>NA64YJC</td>\n",
              "      <td>Castle Donnington</td>\n",
              "      <td>Manual</td>\n",
              "      <td>4</td>\n",
              "      <td>Petrol</td>\n",
              "      <td>54</td>\n",
              "      <td>4U</td>\n",
              "      <td>120</td>\n",
              "      <td>25250</td>\n",
              "      <td>2014</td>\n",
              "      <td>5499</td>\n",
              "      <td>3541.0</td>\n",
              "      <td>9040.0</td>\n",
              "      <td>115.43</td>\n",
              "      <td>0</td>\n",
              "      <td>9.9</td>\n",
              "      <td>False</td>\n",
              "      <td>https://www.availablecar.com/used-cars/fiat-pa...</td>\n",
              "    </tr>\n",
              "    <tr>\n",
              "      <th>4</th>\n",
              "      <td>Fiat</td>\n",
              "      <td>500 1.2 Colour Therapy</td>\n",
              "      <td>MT15KZY</td>\n",
              "      <td>Leeds</td>\n",
              "      <td>Manual</td>\n",
              "      <td>4</td>\n",
              "      <td>Petrol</td>\n",
              "      <td>58</td>\n",
              "      <td>7U</td>\n",
              "      <td>113</td>\n",
              "      <td>39838</td>\n",
              "      <td>2015</td>\n",
              "      <td>5999</td>\n",
              "      <td>5166.0</td>\n",
              "      <td>11165.0</td>\n",
              "      <td>125.92</td>\n",
              "      <td>0</td>\n",
              "      <td>9.9</td>\n",
              "      <td>False</td>\n",
              "      <td>https://www.availablecar.com/used-cars/fiat-50...</td>\n",
              "    </tr>\n",
              "  </tbody>\n",
              "</table>\n",
              "</div>\n",
              "      <button class=\"colab-df-convert\" onclick=\"convertToInteractive('df-97a92d61-b82a-4b4b-b9be-6bbb868a9e69')\"\n",
              "              title=\"Convert this dataframe to an interactive table.\"\n",
              "              style=\"display:none;\">\n",
              "        \n",
              "  <svg xmlns=\"http://www.w3.org/2000/svg\" height=\"24px\"viewBox=\"0 0 24 24\"\n",
              "       width=\"24px\">\n",
              "    <path d=\"M0 0h24v24H0V0z\" fill=\"none\"/>\n",
              "    <path d=\"M18.56 5.44l.94 2.06.94-2.06 2.06-.94-2.06-.94-.94-2.06-.94 2.06-2.06.94zm-11 1L8.5 8.5l.94-2.06 2.06-.94-2.06-.94L8.5 2.5l-.94 2.06-2.06.94zm10 10l.94 2.06.94-2.06 2.06-.94-2.06-.94-.94-2.06-.94 2.06-2.06.94z\"/><path d=\"M17.41 7.96l-1.37-1.37c-.4-.4-.92-.59-1.43-.59-.52 0-1.04.2-1.43.59L10.3 9.45l-7.72 7.72c-.78.78-.78 2.05 0 2.83L4 21.41c.39.39.9.59 1.41.59.51 0 1.02-.2 1.41-.59l7.78-7.78 2.81-2.81c.8-.78.8-2.07 0-2.86zM5.41 20L4 18.59l7.72-7.72 1.47 1.35L5.41 20z\"/>\n",
              "  </svg>\n",
              "      </button>\n",
              "      \n",
              "  <style>\n",
              "    .colab-df-container {\n",
              "      display:flex;\n",
              "      flex-wrap:wrap;\n",
              "      gap: 12px;\n",
              "    }\n",
              "\n",
              "    .colab-df-convert {\n",
              "      background-color: #E8F0FE;\n",
              "      border: none;\n",
              "      border-radius: 50%;\n",
              "      cursor: pointer;\n",
              "      display: none;\n",
              "      fill: #1967D2;\n",
              "      height: 32px;\n",
              "      padding: 0 0 0 0;\n",
              "      width: 32px;\n",
              "    }\n",
              "\n",
              "    .colab-df-convert:hover {\n",
              "      background-color: #E2EBFA;\n",
              "      box-shadow: 0px 1px 2px rgba(60, 64, 67, 0.3), 0px 1px 3px 1px rgba(60, 64, 67, 0.15);\n",
              "      fill: #174EA6;\n",
              "    }\n",
              "\n",
              "    [theme=dark] .colab-df-convert {\n",
              "      background-color: #3B4455;\n",
              "      fill: #D2E3FC;\n",
              "    }\n",
              "\n",
              "    [theme=dark] .colab-df-convert:hover {\n",
              "      background-color: #434B5C;\n",
              "      box-shadow: 0px 1px 3px 1px rgba(0, 0, 0, 0.15);\n",
              "      filter: drop-shadow(0px 1px 2px rgba(0, 0, 0, 0.3));\n",
              "      fill: #FFFFFF;\n",
              "    }\n",
              "  </style>\n",
              "\n",
              "      <script>\n",
              "        const buttonEl =\n",
              "          document.querySelector('#df-97a92d61-b82a-4b4b-b9be-6bbb868a9e69 button.colab-df-convert');\n",
              "        buttonEl.style.display =\n",
              "          google.colab.kernel.accessAllowed ? 'block' : 'none';\n",
              "\n",
              "        async function convertToInteractive(key) {\n",
              "          const element = document.querySelector('#df-97a92d61-b82a-4b4b-b9be-6bbb868a9e69');\n",
              "          const dataTable =\n",
              "            await google.colab.kernel.invokeFunction('convertToInteractive',\n",
              "                                                     [key], {});\n",
              "          if (!dataTable) return;\n",
              "\n",
              "          const docLinkHtml = 'Like what you see? Visit the ' +\n",
              "            '<a target=\"_blank\" href=https://colab.research.google.com/notebooks/data_table.ipynb>data table notebook</a>'\n",
              "            + ' to learn more about interactive tables.';\n",
              "          element.innerHTML = '';\n",
              "          dataTable['output_type'] = 'display_data';\n",
              "          await google.colab.output.renderOutput(dataTable, element);\n",
              "          const docLink = document.createElement('div');\n",
              "          docLink.innerHTML = docLinkHtml;\n",
              "          element.appendChild(docLink);\n",
              "        }\n",
              "      </script>\n",
              "    </div>\n",
              "  </div>\n",
              "  "
            ],
            "text/plain": [
              "        Make  ...                                                URL\n",
              "0  CHEVROLET  ...  https://www.availablecar.com/used-cars/chevrol...\n",
              "1     Toyota  ...  https://www.availablecar.com/used-cars/toyota-...\n",
              "2      Skoda  ...  https://www.availablecar.com/used-cars/skoda-c...\n",
              "3       Fiat  ...  https://www.availablecar.com/used-cars/fiat-pa...\n",
              "4       Fiat  ...  https://www.availablecar.com/used-cars/fiat-50...\n",
              "\n",
              "[5 rows x 20 columns]"
            ]
          },
          "metadata": {},
          "execution_count": 19
        }
      ]
    },
    {
      "cell_type": "code",
      "source": [
        "big_df['Depsoit'].value_counts()"
      ],
      "metadata": {
        "colab": {
          "base_uri": "https://localhost:8080/"
        },
        "id": "xfIpIPKaSvuP",
        "outputId": "0d5274c5-529f-4528-b541-2928707fcbab"
      },
      "execution_count": null,
      "outputs": [
        {
          "output_type": "execute_result",
          "data": {
            "text/plain": [
              "0    1000\n",
              "Name: Depsoit, dtype: int64"
            ]
          },
          "metadata": {},
          "execution_count": 20
        }
      ]
    },
    {
      "cell_type": "code",
      "source": [
        "big_df = big_df.drop('Depsoit', axis=1)"
      ],
      "metadata": {
        "id": "dTSkn2qISzw3"
      },
      "execution_count": null,
      "outputs": []
    },
    {
      "cell_type": "code",
      "source": [
        "big_df.to_csv('car_dataframe.csv')\n",
        "from google.colab import files\n",
        "files.download(\"car_dataframe.csv\")"
      ],
      "metadata": {
        "id": "I_rGfhIyN8_m",
        "colab": {
          "base_uri": "https://localhost:8080/",
          "height": 17
        },
        "outputId": "d539efea-c683-41ae-a003-5d09447ffe0f"
      },
      "execution_count": null,
      "outputs": [
        {
          "output_type": "display_data",
          "data": {
            "application/javascript": [
              "\n",
              "    async function download(id, filename, size) {\n",
              "      if (!google.colab.kernel.accessAllowed) {\n",
              "        return;\n",
              "      }\n",
              "      const div = document.createElement('div');\n",
              "      const label = document.createElement('label');\n",
              "      label.textContent = `Downloading \"${filename}\": `;\n",
              "      div.appendChild(label);\n",
              "      const progress = document.createElement('progress');\n",
              "      progress.max = size;\n",
              "      div.appendChild(progress);\n",
              "      document.body.appendChild(div);\n",
              "\n",
              "      const buffers = [];\n",
              "      let downloaded = 0;\n",
              "\n",
              "      const channel = await google.colab.kernel.comms.open(id);\n",
              "      // Send a message to notify the kernel that we're ready.\n",
              "      channel.send({})\n",
              "\n",
              "      for await (const message of channel.messages) {\n",
              "        // Send a message to notify the kernel that we're ready.\n",
              "        channel.send({})\n",
              "        if (message.buffers) {\n",
              "          for (const buffer of message.buffers) {\n",
              "            buffers.push(buffer);\n",
              "            downloaded += buffer.byteLength;\n",
              "            progress.value = downloaded;\n",
              "          }\n",
              "        }\n",
              "      }\n",
              "      const blob = new Blob(buffers, {type: 'application/binary'});\n",
              "      const a = document.createElement('a');\n",
              "      a.href = window.URL.createObjectURL(blob);\n",
              "      a.download = filename;\n",
              "      div.appendChild(a);\n",
              "      a.click();\n",
              "      div.remove();\n",
              "    }\n",
              "  "
            ],
            "text/plain": [
              "<IPython.core.display.Javascript object>"
            ]
          },
          "metadata": {}
        },
        {
          "output_type": "display_data",
          "data": {
            "application/javascript": [
              "download(\"download_a2e88e09-af85-4df3-83dc-4153b485b2b6\", \"car_dataframe.csv\", 190870)"
            ],
            "text/plain": [
              "<IPython.core.display.Javascript object>"
            ]
          },
          "metadata": {}
        }
      ]
    }
  ]
}